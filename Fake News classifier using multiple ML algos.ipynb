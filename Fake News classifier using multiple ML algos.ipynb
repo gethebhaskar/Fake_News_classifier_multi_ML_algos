{
 "cells": [
  {
   "cell_type": "markdown",
   "id": "89775b2f",
   "metadata": {},
   "source": [
    "# Goal: Build a system to identify unreliable/fake news"
   ]
  },
  {
   "cell_type": "markdown",
   "id": "2f32f902",
   "metadata": {},
   "source": [
    "Dataset used - https://www.kaggle.com/c/fake-news/data\n",
    "\n",
    "Dataset Description\n",
    "train.csv: A full training dataset with the following attributes:\n",
    "\n",
    "id: unique id for a news article\n",
    "\n",
    "title: the title of a news article\n",
    "\n",
    "author: author of the news article\n",
    "\n",
    "text: the text of the article; could be incomplete\n",
    "\n",
    "label: a label that marks the article as potentially unreliable\n",
    "\n",
    "1: unreliable\n",
    "\n",
    "0: reliable"
   ]
  },
  {
   "cell_type": "code",
   "execution_count": 109,
   "id": "3c6b1110",
   "metadata": {},
   "outputs": [],
   "source": [
    "#Importing the required libraries\n",
    "\n",
    "import numpy as np\n",
    "import pandas as pd\n",
    "import matplotlib.pyplot as plt\n",
    "import re #Regular expressions \n",
    "import nltk #Natural Language Toolkit\n",
    "from nltk.corpus import stopwords\n",
    "from nltk.stem.porter import PorterStemmer\n",
    "from sklearn.feature_extraction.text import TfidfVectorizer, HashingVectorizer, CountVectorizer\n",
    "from sklearn.model_selection import train_test_split\n",
    "from sklearn.linear_model import LogisticRegression\n",
    "from sklearn.naive_bayes import MultinomialNB\n",
    "from sklearn.linear_model import PassiveAggressiveClassifier\n",
    "from sklearn.metrics import accuracy_score\n",
    "from sklearn.metrics import classification_report\n",
    "from sklearn import metrics\n",
    "import itertools\n",
    "import pickle"
   ]
  },
  {
   "cell_type": "markdown",
   "id": "93a5f486",
   "metadata": {},
   "source": [
    "The Natural Language Toolkit (NLTK) is a platform used for building Python programs that work with human language data for applying in statistical natural language processing (NLP). It contains text processing libraries for tokenization, parsing, classification, stemming, tagging and semantic reasoning.\n",
    "\n",
    "Stopwords are words which occur frequently in a corpus. e.g a, an, the, in. Frequently occurring words are removed from the corpus for the purpose of text-normalization."
   ]
  },
  {
   "cell_type": "code",
   "execution_count": 110,
   "id": "28d7c740",
   "metadata": {},
   "outputs": [
    {
     "name": "stderr",
     "output_type": "stream",
     "text": [
      "[nltk_data] Downloading package stopwords to\n",
      "[nltk_data]     C:\\Users\\bhask\\AppData\\Roaming\\nltk_data...\n",
      "[nltk_data]   Package stopwords is already up-to-date!\n"
     ]
    },
    {
     "data": {
      "text/plain": [
       "True"
      ]
     },
     "execution_count": 110,
     "metadata": {},
     "output_type": "execute_result"
    }
   ],
   "source": [
    "nltk.download('stopwords')"
   ]
  },
  {
   "cell_type": "code",
   "execution_count": 111,
   "id": "80de7eb2",
   "metadata": {},
   "outputs": [
    {
     "name": "stdout",
     "output_type": "stream",
     "text": [
      "['i', 'me', 'my', 'myself', 'we', 'our', 'ours', 'ourselves', 'you', \"you're\", \"you've\", \"you'll\", \"you'd\", 'your', 'yours', 'yourself', 'yourselves', 'he', 'him', 'his', 'himself', 'she', \"she's\", 'her', 'hers', 'herself', 'it', \"it's\", 'its', 'itself', 'they', 'them', 'their', 'theirs', 'themselves', 'what', 'which', 'who', 'whom', 'this', 'that', \"that'll\", 'these', 'those', 'am', 'is', 'are', 'was', 'were', 'be', 'been', 'being', 'have', 'has', 'had', 'having', 'do', 'does', 'did', 'doing', 'a', 'an', 'the', 'and', 'but', 'if', 'or', 'because', 'as', 'until', 'while', 'of', 'at', 'by', 'for', 'with', 'about', 'against', 'between', 'into', 'through', 'during', 'before', 'after', 'above', 'below', 'to', 'from', 'up', 'down', 'in', 'out', 'on', 'off', 'over', 'under', 'again', 'further', 'then', 'once', 'here', 'there', 'when', 'where', 'why', 'how', 'all', 'any', 'both', 'each', 'few', 'more', 'most', 'other', 'some', 'such', 'no', 'nor', 'not', 'only', 'own', 'same', 'so', 'than', 'too', 'very', 's', 't', 'can', 'will', 'just', 'don', \"don't\", 'should', \"should've\", 'now', 'd', 'll', 'm', 'o', 're', 've', 'y', 'ain', 'aren', \"aren't\", 'couldn', \"couldn't\", 'didn', \"didn't\", 'doesn', \"doesn't\", 'hadn', \"hadn't\", 'hasn', \"hasn't\", 'haven', \"haven't\", 'isn', \"isn't\", 'ma', 'mightn', \"mightn't\", 'mustn', \"mustn't\", 'needn', \"needn't\", 'shan', \"shan't\", 'shouldn', \"shouldn't\", 'wasn', \"wasn't\", 'weren', \"weren't\", 'won', \"won't\", 'wouldn', \"wouldn't\"]\n",
      "\n",
      "Total number of stopwords : 179\n"
     ]
    }
   ],
   "source": [
    "# Printing the stopwords in English\n",
    "# We will have to remove these from the corpus during our analysis and pre-processing\n",
    "print(stopwords.words('english'))\n",
    "print()\n",
    "print('Total number of stopwords :',len(stopwords.words('english')))"
   ]
  },
  {
   "cell_type": "code",
   "execution_count": 112,
   "id": "e3c5713b",
   "metadata": {},
   "outputs": [
    {
     "name": "stdout",
     "output_type": "stream",
     "text": [
      "(20800, 5)\n"
     ]
    }
   ],
   "source": [
    "# Data Pre-processing and Analysis\n",
    "# First let's load the dataset\n",
    "news_dataset = pd.read_csv('train.csv')\n",
    "print(news_dataset.shape)"
   ]
  },
  {
   "cell_type": "code",
   "execution_count": 113,
   "id": "726d8087",
   "metadata": {},
   "outputs": [
    {
     "data": {
      "text/plain": [
       "id           0\n",
       "title      558\n",
       "author    1957\n",
       "text        39\n",
       "label        0\n",
       "dtype: int64"
      ]
     },
     "execution_count": 113,
     "metadata": {},
     "output_type": "execute_result"
    }
   ],
   "source": [
    "# Checking for missing values\n",
    "news_dataset.isnull().sum()"
   ]
  },
  {
   "cell_type": "code",
   "execution_count": 114,
   "id": "e16ea1a6",
   "metadata": {},
   "outputs": [
    {
     "name": "stdout",
     "output_type": "stream",
     "text": [
      "(18285, 5)\n"
     ]
    }
   ],
   "source": [
    "#Dropping the empty strings\n",
    "news_dataset = news_dataset.dropna()\n",
    "print(news_dataset.shape)"
   ]
  },
  {
   "cell_type": "code",
   "execution_count": 115,
   "id": "5ba5ab3d",
   "metadata": {},
   "outputs": [],
   "source": [
    "news_dataset.reset_index(inplace=True)"
   ]
  },
  {
   "cell_type": "code",
   "execution_count": 116,
   "id": "a62f4170",
   "metadata": {},
   "outputs": [
    {
     "data": {
      "text/plain": [
       "index     0\n",
       "id        0\n",
       "title     0\n",
       "author    0\n",
       "text      0\n",
       "label     0\n",
       "dtype: int64"
      ]
     },
     "execution_count": 116,
     "metadata": {},
     "output_type": "execute_result"
    }
   ],
   "source": [
    "news_dataset.isnull().sum()"
   ]
  },
  {
   "cell_type": "code",
   "execution_count": null,
   "id": "5372de21",
   "metadata": {},
   "outputs": [],
   "source": [
    "# We will use all text fields such as Title, Author & text description to train our model \n",
    "# to help predict if it is real or unreliable news\n",
    "news_dataset['text_corpus'] = news_dataset['author']+' '+news_dataset['title']+' '+news_dataset['text']\n",
    "print(news_dataset['text_corpus'])"
   ]
  },
  {
   "cell_type": "code",
   "execution_count": null,
   "id": "3ccd3727",
   "metadata": {},
   "outputs": [],
   "source": [
    "news_dataset.head()"
   ]
  },
  {
   "cell_type": "code",
   "execution_count": 11,
   "id": "44f0426b",
   "metadata": {},
   "outputs": [],
   "source": [
    "# Now we will separate the data and label i.e. text_corpus and label fields\n",
    "#X = news_dataset.drop(columns='label', axis=1)\n",
    "\n",
    "#X = news_dataset['text_corpus']\n",
    "#Y = news_dataset['label']"
   ]
  },
  {
   "cell_type": "code",
   "execution_count": 12,
   "id": "96104f04",
   "metadata": {},
   "outputs": [
    {
     "name": "stdout",
     "output_type": "stream",
     "text": [
      "(5200, 4)\n"
     ]
    }
   ],
   "source": [
    "### Reading Test data\n",
    "test_dataset = pd.read_csv('test.csv')\n",
    "print(test_dataset.shape)"
   ]
  },
  {
   "cell_type": "code",
   "execution_count": 13,
   "id": "484987be",
   "metadata": {},
   "outputs": [
    {
     "data": {
      "text/plain": [
       "id          0\n",
       "title     122\n",
       "author    503\n",
       "text        7\n",
       "dtype: int64"
      ]
     },
     "execution_count": 13,
     "metadata": {},
     "output_type": "execute_result"
    }
   ],
   "source": [
    "# Checking for missing values\n",
    "test_dataset.isnull().sum()"
   ]
  },
  {
   "cell_type": "code",
   "execution_count": 14,
   "id": "8632b63a",
   "metadata": {},
   "outputs": [
    {
     "name": "stdout",
     "output_type": "stream",
     "text": [
      "(4575, 4)\n"
     ]
    }
   ],
   "source": [
    "#Dropping the empty strings\n",
    "test_dataset = test_dataset.dropna()\n",
    "print(test_dataset.shape)"
   ]
  },
  {
   "cell_type": "code",
   "execution_count": 15,
   "id": "9891e294",
   "metadata": {},
   "outputs": [],
   "source": [
    "test_dataset.reset_index(inplace=True)"
   ]
  },
  {
   "cell_type": "code",
   "execution_count": 16,
   "id": "5278c441",
   "metadata": {},
   "outputs": [
    {
     "data": {
      "text/plain": [
       "index     0\n",
       "id        0\n",
       "title     0\n",
       "author    0\n",
       "text      0\n",
       "dtype: int64"
      ]
     },
     "execution_count": 16,
     "metadata": {},
     "output_type": "execute_result"
    }
   ],
   "source": [
    "test_dataset.isnull().sum()"
   ]
  },
  {
   "cell_type": "code",
   "execution_count": 17,
   "id": "399553d3",
   "metadata": {},
   "outputs": [
    {
     "name": "stdout",
     "output_type": "stream",
     "text": [
      "0       David Streitfeld Specter of Trump Loosens Tong...\n",
      "1       Common Dreams #NoDAPL: Native American Leaders...\n",
      "2       Daniel Victor Tim Tebow Will Attempt Another C...\n",
      "3       Truth Broadcast Network Keiser Report: Meme Wa...\n",
      "4       Pam Key Pelosi Calls for FBI Investigation to ...\n",
      "                              ...                        \n",
      "4570    Pam Key Trump on If ’Tapes’ Exist of Comey Con...\n",
      "4571    Jody Rosen The Bangladeshi Traffic Jam That Ne...\n",
      "4572    Sheryl Gay Stolberg John Kasich Signs One Abor...\n",
      "4573    Mike McPhate California Today: What, Exactly, ...\n",
      "4574    Teddy Wayne Awkward Sex, Onscreen and Off - Th...\n",
      "Name: text_corpus, Length: 4575, dtype: object\n"
     ]
    }
   ],
   "source": [
    "# We will use all text fields such as Title, Author & text description to test our model \n",
    "# to help predict if it is real or unreliable news\n",
    "test_dataset['text_corpus'] = test_dataset['author']+' '+test_dataset['title']+' '+test_dataset['text']\n",
    "print(test_dataset['text_corpus'])"
   ]
  },
  {
   "cell_type": "code",
   "execution_count": 18,
   "id": "c44bf719",
   "metadata": {},
   "outputs": [],
   "source": [
    "# Now we will separate the test_data and label i.e. text_corpus and label fields\n",
    "#X_test = test_dataset.drop(columns='label', axis=1)\n",
    "\n",
    "#X_test = test_dataset['text_corpus']\n",
    "#Y_test = test_dataset['label']"
   ]
  },
  {
   "cell_type": "markdown",
   "id": "2b8acc02",
   "metadata": {},
   "source": [
    "## Remove Special Characters \n",
    "\n",
    "- Pick all alphabet characters - lowercase and uppercase...all others such as numbers and punctuations will be removed.\n",
    "- Numbers or punctuations will be replaced by a whitespace\n",
    "\n",
    "## Remove Stopwords\n",
    "\n",
    "- Remove standard english stopwords\n",
    "\n",
    "## Stemming or Lemmatization\n",
    "\n",
    "- Here we will try to apply stemming - objective is to reduce the word to it's root word.\n",
    "- For example: actor, actress, acting, action --> act"
   ]
  },
  {
   "cell_type": "code",
   "execution_count": 19,
   "id": "7782dc22",
   "metadata": {},
   "outputs": [],
   "source": [
    "port_stem = PorterStemmer()\n",
    "\n",
    "def stemming(content):\n",
    "    # Pick all alphabet characters - lowercase and uppercase...all others such as numbers and punctuations will be removed. \n",
    "    #Numbers or punctuations will be replaced by a whitespace\n",
    "    stemmed_content = re.sub('[^a-zA-Z]',' ',content)\n",
    "    # Converting all letters to lowercase \n",
    "    stemmed_content = stemmed_content.lower()\n",
    "    # Converting all to a splitted case or a list\n",
    "    stemmed_content = stemmed_content.split()\n",
    "    # Applying stemming, so we get the root words wherever possible + remove stopwords as well\n",
    "    stemmed_content = [port_stem.stem(word) for word in stemmed_content if not word in stopwords.words('english')]\n",
    "    # Join all the words in final content\n",
    "    stemmed_content = ' '.join(stemmed_content)\n",
    "    return stemmed_content"
   ]
  },
  {
   "cell_type": "code",
   "execution_count": 20,
   "id": "ddf6d244",
   "metadata": {},
   "outputs": [
    {
     "name": "stdout",
     "output_type": "stream",
     "text": [
      "0        darrel lucu hous dem aid even see comey letter...\n",
      "1        daniel j flynn flynn hillari clinton big woman...\n",
      "2        consortiumnew com truth might get fire truth m...\n",
      "3        jessica purkiss civilian kill singl us airstri...\n",
      "4        howard portnoy iranian woman jail fiction unpu...\n",
      "                               ...                        \n",
      "18280    jerom hudson rapper trump poster child white s...\n",
      "18281    benjamin hoffman n f l playoff schedul matchup...\n",
      "18282    michael j de la merc rachel abram maci said re...\n",
      "18283    alex ansari nato russia hold parallel exercis ...\n",
      "18284    david swanson keep f aliv david swanson author...\n",
      "Name: text_corpus, Length: 18285, dtype: object\n"
     ]
    }
   ],
   "source": [
    "news_dataset['text_corpus'] = news_dataset['text_corpus'].apply(stemming)\n",
    "print(news_dataset['text_corpus'])"
   ]
  },
  {
   "cell_type": "code",
   "execution_count": 21,
   "id": "6b42a1e8",
   "metadata": {},
   "outputs": [],
   "source": [
    "# Separating data and label from train data\n",
    "X = news_dataset['text_corpus'].values\n",
    "Y = news_dataset['label'].values"
   ]
  },
  {
   "cell_type": "code",
   "execution_count": 22,
   "id": "dd7716fe",
   "metadata": {
    "scrolled": true
   },
   "outputs": [
    {
     "name": "stdout",
     "output_type": "stream",
     "text": [
      "0       david streitfeld specter trump loosen tongu pu...\n",
      "1       common dream nodapl nativ american leader vow ...\n",
      "2       daniel victor tim tebow attempt anoth comeback...\n",
      "3       truth broadcast network keiser report meme war...\n",
      "4       pam key pelosi call fbi investig find russian ...\n",
      "                              ...                        \n",
      "4570    pam key trump tape exist comey convers tell ma...\n",
      "4571    jodi rosen bangladeshi traffic jam never end n...\n",
      "4572    sheryl gay stolberg john kasich sign one abort...\n",
      "4573    mike mcphate california today exactli sushi ne...\n",
      "4574    teddi wayn awkward sex onscreen new york time ...\n",
      "Name: text_corpus, Length: 4575, dtype: object\n"
     ]
    }
   ],
   "source": [
    "test_dataset['text_corpus'] = test_dataset['text_corpus'].apply(stemming)\n",
    "print(test_dataset['text_corpus'])"
   ]
  },
  {
   "cell_type": "code",
   "execution_count": 82,
   "id": "9086f17b",
   "metadata": {},
   "outputs": [],
   "source": [
    "# Separating data and label\n",
    "X_testt = test_dataset['text_corpus'].values"
   ]
  },
  {
   "cell_type": "markdown",
   "id": "244183ab",
   "metadata": {},
   "source": [
    "## TF-IDF (Term Frequency, Inverse Document Frequency) \n",
    "\n",
    "### Converting Textual data to Numerical data for Logistic regression\n",
    "\n",
    "* We will use TF-IDF Vectorizer\n",
    "* TF-IDF Vectorizer will convert textual data to numerical data"
   ]
  },
  {
   "cell_type": "markdown",
   "id": "07eeaebe",
   "metadata": {},
   "source": [
    "# Modeling & Model Evaluation without considering maximum feature in vectorizer object created above\n",
    "### Training the model (model 1 : Logistic Regression)\n",
    "### Training the model (model 2 : MultinomialNB Algorithm model)\n",
    "### Training the model (model 3 : Passive Aggressive Classifier Algorithm)"
   ]
  },
  {
   "cell_type": "code",
   "execution_count": 106,
   "id": "3d9d9c09",
   "metadata": {
    "scrolled": true
   },
   "outputs": [
    {
     "name": "stdout",
     "output_type": "stream",
     "text": [
      "  (0, 51791)\t0.019152326101979433\n",
      "  (0, 51680)\t0.013603030914271537\n",
      "  (0, 51602)\t0.008162279160100842\n",
      "  (0, 51296)\t0.014696493264401263\n",
      "  (0, 51226)\t0.032458089231697226\n",
      "  (0, 51208)\t0.017963400900941756\n",
      "  (0, 51202)\t0.02470559365607444\n",
      "  (0, 51194)\t0.010943962334367946\n",
      "  (0, 51189)\t0.03051514157278351\n",
      "  (0, 51182)\t0.018451684190000348\n",
      "  (0, 51177)\t0.009817182081474198\n",
      "  (0, 50787)\t0.018595793749540915\n",
      "  (0, 50778)\t0.02834132947054698\n",
      "  (0, 50730)\t0.01501882894800817\n",
      "  (0, 50609)\t0.01915006050785553\n",
      "  (0, 50529)\t0.04413121927149239\n",
      "  (0, 50485)\t0.010879809682368338\n",
      "  (0, 50401)\t0.022254352266328443\n",
      "  (0, 50378)\t0.017835461435590554\n",
      "  (0, 50311)\t0.010150955280675859\n",
      "  (0, 50230)\t0.027049316943624484\n",
      "  (0, 50156)\t0.03047917251979877\n",
      "  (0, 50099)\t0.01644472974250758\n",
      "  (0, 50091)\t0.01752863373779727\n",
      "  (0, 49813)\t0.052060994659090136\n",
      "  :\t:\n",
      "  (4574, 2040)\t0.04205925278605167\n",
      "  (4574, 1969)\t0.022538127259348555\n",
      "  (4574, 1895)\t0.021896148127765858\n",
      "  (4574, 1852)\t0.04320059716336367\n",
      "  (4574, 1694)\t0.02988814133467832\n",
      "  (4574, 1464)\t0.014715795159987291\n",
      "  (4574, 1406)\t0.024277580839243803\n",
      "  (4574, 1380)\t0.03364227351482109\n",
      "  (4574, 1377)\t0.03913259469597223\n",
      "  (4574, 1370)\t0.019013154348952278\n",
      "  (4574, 1167)\t0.02317500693473115\n",
      "  (4574, 921)\t0.018570077438824696\n",
      "  (4574, 822)\t0.028140603443642977\n",
      "  (4574, 800)\t0.01976644615601179\n",
      "  (4574, 788)\t0.015846107375671454\n",
      "  (4574, 743)\t0.03291135164278721\n",
      "  (4574, 631)\t0.027984688575375102\n",
      "  (4574, 567)\t0.01935918613712406\n",
      "  (4574, 453)\t0.11351159845175925\n",
      "  (4574, 448)\t0.01170371073730604\n",
      "  (4574, 425)\t0.014291800905754687\n",
      "  (4574, 404)\t0.013798643023975505\n",
      "  (4574, 289)\t0.02472684456649985\n",
      "  (4574, 283)\t0.016839788065932355\n",
      "  (4574, 62)\t0.035146782649236326\n"
     ]
    }
   ],
   "source": [
    "#Initializing tfidf vectorizer without max_feature parametern for test data\n",
    "vectorizer1 = TfidfVectorizer()\n",
    "vectorizer1.fit(X_testt)\n",
    "\n",
    "X_testtt = vectorizer1.transform(X_testt)\n",
    "print(X_testtt)"
   ]
  },
  {
   "cell_type": "code",
   "execution_count": 107,
   "id": "08bd3d6b",
   "metadata": {},
   "outputs": [],
   "source": [
    "pickle.dump(vectorizer1, open('transform1.pkl', 'wb'))\n",
    "tfidf1 = pickle.load(open('transform1.pkl', 'rb'))"
   ]
  },
  {
   "cell_type": "code",
   "execution_count": 108,
   "id": "17ddfa30",
   "metadata": {},
   "outputs": [
    {
     "data": {
      "text/plain": [
       "{'analyzer': 'word',\n",
       " 'binary': False,\n",
       " 'decode_error': 'strict',\n",
       " 'dtype': numpy.float64,\n",
       " 'encoding': 'utf-8',\n",
       " 'input': 'content',\n",
       " 'lowercase': True,\n",
       " 'max_df': 1.0,\n",
       " 'max_features': None,\n",
       " 'min_df': 1,\n",
       " 'ngram_range': (1, 1),\n",
       " 'norm': 'l2',\n",
       " 'preprocessor': None,\n",
       " 'smooth_idf': True,\n",
       " 'stop_words': None,\n",
       " 'strip_accents': None,\n",
       " 'sublinear_tf': False,\n",
       " 'token_pattern': '(?u)\\\\b\\\\w\\\\w+\\\\b',\n",
       " 'tokenizer': None,\n",
       " 'use_idf': True,\n",
       " 'vocabulary': None}"
      ]
     },
     "execution_count": 108,
     "metadata": {},
     "output_type": "execute_result"
    }
   ],
   "source": [
    "vectorizer1.get_params()"
   ]
  },
  {
   "cell_type": "code",
   "execution_count": 24,
   "id": "d826225a",
   "metadata": {
    "scrolled": true
   },
   "outputs": [
    {
     "name": "stdout",
     "output_type": "stream",
     "text": [
      "  (0, 103542)\t0.04901434835330664\n",
      "  (0, 103495)\t0.01872577569795248\n",
      "  (0, 102585)\t0.04408585624372993\n",
      "  (0, 102581)\t0.09471806550886494\n",
      "  (0, 102538)\t0.0373955616362059\n",
      "  (0, 102503)\t0.011120618587639634\n",
      "  (0, 101885)\t0.017068661622212464\n",
      "  (0, 101113)\t0.016943168142829257\n",
      "  (0, 101024)\t0.012438945053558758\n",
      "  (0, 100943)\t0.02963752596590382\n",
      "  (0, 100871)\t0.012612127305072907\n",
      "  (0, 100686)\t0.011580772427573811\n",
      "  (0, 99894)\t0.02551891793554028\n",
      "  (0, 99860)\t0.0313803091232797\n",
      "  (0, 98937)\t0.021537726515811532\n",
      "  (0, 97643)\t0.06519465259133668\n",
      "  (0, 96993)\t0.033236200929305154\n",
      "  (0, 96749)\t0.01614637638746375\n",
      "  (0, 96000)\t0.037998720496489065\n",
      "  (0, 95396)\t0.01087634980891986\n",
      "  (0, 95387)\t0.04207735317609801\n",
      "  (0, 95335)\t0.13573175453703548\n",
      "  (0, 95196)\t0.07038333993030485\n",
      "  (0, 93994)\t0.03945123665577682\n",
      "  (0, 93460)\t0.026904266051021565\n",
      "  :\t:\n",
      "  (18284, 7004)\t0.010430773388291797\n",
      "  (18284, 6696)\t0.027700547220170835\n",
      "  (18284, 6418)\t0.03865017378349558\n",
      "  (18284, 6380)\t0.025275152200549454\n",
      "  (18284, 6122)\t0.04266313679165088\n",
      "  (18284, 5699)\t0.0309349528617954\n",
      "  (18284, 5503)\t0.045864778349094845\n",
      "  (18284, 5166)\t0.023554017353704295\n",
      "  (18284, 4903)\t0.04483801751768931\n",
      "  (18284, 3050)\t0.035018463500969564\n",
      "  (18284, 2832)\t0.04858564493956691\n",
      "  (18284, 2750)\t0.015076804359397103\n",
      "  (18284, 2516)\t0.04755388105906944\n",
      "  (18284, 2122)\t0.08923629385791441\n",
      "  (18284, 1854)\t0.022913738849068204\n",
      "  (18284, 1852)\t0.02915813174149136\n",
      "  (18284, 1810)\t0.03303508552688863\n",
      "  (18284, 1753)\t0.033323149250510053\n",
      "  (18284, 949)\t0.01870413794359839\n",
      "  (18284, 836)\t0.03787547387802642\n",
      "  (18284, 809)\t0.01357024196221331\n",
      "  (18284, 754)\t0.04158923580087705\n",
      "  (18284, 518)\t0.024286423924898874\n",
      "  (18284, 293)\t0.015177610228524884\n",
      "  (18284, 275)\t0.01879789192081208\n"
     ]
    }
   ],
   "source": [
    "#Initializing tfidf vectorizer without max_feature parameter for train data\n",
    "vectorizer = TfidfVectorizer()\n",
    "vectorizer.fit(X)\n",
    "\n",
    "X = vectorizer.transform(X)\n",
    "print(X)"
   ]
  },
  {
   "cell_type": "code",
   "execution_count": 99,
   "id": "115aa353",
   "metadata": {},
   "outputs": [],
   "source": [
    "pickle.dump(vectorizer, open('transform.pkl', 'wb'))\n",
    "tfidf = pickle.load(open('transform.pkl', 'rb'))"
   ]
  },
  {
   "cell_type": "code",
   "execution_count": 26,
   "id": "2b3bbf40",
   "metadata": {},
   "outputs": [
    {
     "data": {
      "text/plain": [
       "{'analyzer': 'word',\n",
       " 'binary': False,\n",
       " 'decode_error': 'strict',\n",
       " 'dtype': numpy.float64,\n",
       " 'encoding': 'utf-8',\n",
       " 'input': 'content',\n",
       " 'lowercase': True,\n",
       " 'max_df': 1.0,\n",
       " 'max_features': None,\n",
       " 'min_df': 1,\n",
       " 'ngram_range': (1, 1),\n",
       " 'norm': 'l2',\n",
       " 'preprocessor': None,\n",
       " 'smooth_idf': True,\n",
       " 'stop_words': None,\n",
       " 'strip_accents': None,\n",
       " 'sublinear_tf': False,\n",
       " 'token_pattern': '(?u)\\\\b\\\\w\\\\w+\\\\b',\n",
       " 'tokenizer': None,\n",
       " 'use_idf': True,\n",
       " 'vocabulary': None}"
      ]
     },
     "execution_count": 26,
     "metadata": {},
     "output_type": "execute_result"
    }
   ],
   "source": [
    "vectorizer.get_params()"
   ]
  },
  {
   "cell_type": "code",
   "execution_count": 27,
   "id": "09faa447",
   "metadata": {},
   "outputs": [],
   "source": [
    "### Splitting the data into test and train datasets for logistic regression\n",
    "X_train, X_test, Y_train, Y_test = train_test_split(X, Y, test_size=0.18, stratify=Y, random_state=124)"
   ]
  },
  {
   "cell_type": "code",
   "execution_count": 28,
   "id": "d8aa3b7a",
   "metadata": {},
   "outputs": [],
   "source": [
    "### Splitting the data into test and train datasets for MultinomialNB Algorithm model\n",
    "X_train_nb, X_test_nb, Y_train_nb, Y_test_nb = train_test_split(X, Y, test_size=0.18, stratify=Y, random_state=124)"
   ]
  },
  {
   "cell_type": "code",
   "execution_count": 29,
   "id": "5b848f99",
   "metadata": {},
   "outputs": [],
   "source": [
    "### Splitting the data into test and train datasets for Passive Aggressive Classifier Algorithm\n",
    "X_train_pa, X_test_pa, Y_train_pa, Y_test_pa = train_test_split(X, Y, test_size=0.18, stratify=Y, random_state=124)"
   ]
  },
  {
   "cell_type": "code",
   "execution_count": 30,
   "id": "d06d3a5e",
   "metadata": {},
   "outputs": [
    {
     "data": {
      "text/plain": [
       "LogisticRegression()"
      ]
     },
     "execution_count": 30,
     "metadata": {},
     "output_type": "execute_result"
    }
   ],
   "source": [
    "# Training the Logistic regression model\n",
    "model1 = LogisticRegression()\n",
    "model1.fit(X_train, Y_train)"
   ]
  },
  {
   "cell_type": "code",
   "execution_count": 31,
   "id": "d9dc2886",
   "metadata": {},
   "outputs": [],
   "source": [
    "# Saving model to disk\n",
    "pickle.dump(model1, open('model1.pkl','wb'))\n",
    "\n",
    "# Loading model to compare the results\n",
    "model1 = pickle.load(open('model1.pkl','rb'))"
   ]
  },
  {
   "cell_type": "code",
   "execution_count": 32,
   "id": "6576850f",
   "metadata": {},
   "outputs": [
    {
     "data": {
      "text/plain": [
       "MultinomialNB()"
      ]
     },
     "execution_count": 32,
     "metadata": {},
     "output_type": "execute_result"
    }
   ],
   "source": [
    "# Training the MultinomialNB Algorithm model\n",
    "model2 = MultinomialNB()\n",
    "model2.fit(X_train_nb, Y_train_nb)"
   ]
  },
  {
   "cell_type": "code",
   "execution_count": 33,
   "id": "1d657920",
   "metadata": {},
   "outputs": [],
   "source": [
    "# Saving model to disk\n",
    "pickle.dump(model2, open('model2.pkl','wb'))\n",
    "\n",
    "# Loading model to compare the results\n",
    "model2 = pickle.load(open('model2.pkl','rb'))"
   ]
  },
  {
   "cell_type": "code",
   "execution_count": 34,
   "id": "147a62b6",
   "metadata": {},
   "outputs": [
    {
     "data": {
      "text/plain": [
       "PassiveAggressiveClassifier()"
      ]
     },
     "execution_count": 34,
     "metadata": {},
     "output_type": "execute_result"
    }
   ],
   "source": [
    "# Training the Passive Aggressive Classifier Algorithm\n",
    "model3 = PassiveAggressiveClassifier()\n",
    "model3.fit(X_train_pa, Y_train_pa)"
   ]
  },
  {
   "cell_type": "code",
   "execution_count": 35,
   "id": "a64ff411",
   "metadata": {},
   "outputs": [],
   "source": [
    "# Saving model to disk\n",
    "pickle.dump(model3, open('model3.pkl','wb'))\n",
    "\n",
    "# Loading model to compare the results\n",
    "model3 = pickle.load(open('model3.pkl','rb'))"
   ]
  },
  {
   "cell_type": "code",
   "execution_count": 36,
   "id": "2ea13d9d",
   "metadata": {},
   "outputs": [
    {
     "name": "stdout",
     "output_type": "stream",
     "text": [
      "Accuracy score on the training data using logistic regression:  0.9806576402321083\n",
      "Accuracy score on the test data using logistic regression:  0.9623329283110571\n"
     ]
    }
   ],
   "source": [
    "### Logistic regression Model Evaluation\n",
    "# Accuracy Score on Training Data\n",
    "X_train_prediction = model1.predict(X_train)\n",
    "training_data_accuracy = accuracy_score(X_train_prediction, Y_train)\n",
    "\n",
    "print('Accuracy score on the training data using logistic regression: ',training_data_accuracy)\n",
    "\n",
    "# Accuracy Score on Test Data\n",
    "X_test_prediction = model1.predict(X_test)\n",
    "test_data_accuracy = accuracy_score(X_test_prediction, Y_test)\n",
    "\n",
    "print('Accuracy score on the test data using logistic regression: ',test_data_accuracy)"
   ]
  },
  {
   "cell_type": "code",
   "execution_count": 37,
   "id": "1b50f096",
   "metadata": {},
   "outputs": [
    {
     "name": "stdout",
     "output_type": "stream",
     "text": [
      "Accuracy score on the training data using MultinomialNB:  0.8278529980657641\n",
      "Accuracy score on the test data using MultinomialNB:  0.7995139732685298\n"
     ]
    }
   ],
   "source": [
    "### MultinomialNB Algorithm Model Evaluation\n",
    "# Accuracy Score on Training Data\n",
    "X_train_prediction_nb = model2.predict(X_train_nb)\n",
    "training_data_accuracy_nb = accuracy_score(X_train_prediction_nb, Y_train_nb)\n",
    "\n",
    "print('Accuracy score on the training data using MultinomialNB: ',training_data_accuracy_nb)\n",
    "\n",
    "# Accuracy Score on Test Data\n",
    "X_test_prediction_nb = model2.predict(X_test_nb)\n",
    "test_data_accuracy_nb = accuracy_score(X_test_prediction_nb, Y_test_nb)\n",
    "\n",
    "print('Accuracy score on the test data using MultinomialNB: ',test_data_accuracy_nb)"
   ]
  },
  {
   "cell_type": "code",
   "execution_count": 38,
   "id": "aa810d36",
   "metadata": {},
   "outputs": [
    {
     "name": "stdout",
     "output_type": "stream",
     "text": [
      "Accuracy score on the training data using Passive aggressive classifier:  1.0\n",
      "Accuracy score on the test data using Passive aggressive classifier:  0.9760024301336574\n"
     ]
    }
   ],
   "source": [
    "### Passive Aggressive Classifier Algorithm Model Evaluation\n",
    "# Accuracy Score on Training Data\n",
    "X_train_prediction_pa = model3.predict(X_train_pa)\n",
    "training_data_accuracy_pa = accuracy_score(X_train_prediction_pa, Y_train_pa)\n",
    "\n",
    "print('Accuracy score on the training data using Passive aggressive classifier: ',training_data_accuracy_pa)\n",
    "\n",
    "# Accuracy Score on Test Data\n",
    "X_test_prediction_pa = model3.predict(X_test_pa)\n",
    "test_data_accuracy_pa = accuracy_score(X_test_prediction_pa, Y_test_pa)\n",
    "\n",
    "print('Accuracy score on the test data using Passive aggressive classifier: ',test_data_accuracy_pa)"
   ]
  },
  {
   "cell_type": "code",
   "execution_count": 39,
   "id": "08bb3f81",
   "metadata": {},
   "outputs": [],
   "source": [
    "# Function to plot confusion Matrix\n",
    "def plot_confusion_matrix(cm, \n",
    "                          classes,\n",
    "                          normalize=False,\n",
    "                          title='Confusion Matrix',\n",
    "                          cmap=plt.cm.Blues):\n",
    "  plt.imshow(cm, interpolation='nearest', cmap=cmap)\n",
    "  plt.title(title)\n",
    "  plt.colorbar()\n",
    "  tick_marks = np.arange(len(classes))\n",
    "  plt.xticks(tick_marks, classes, rotation=45)\n",
    "  plt.yticks(tick_marks, classes)\n",
    "  \n",
    "  if normalize:\n",
    "    cm = cm.astype('float') / cm.sum(axis=1)[:, np.newaxis]\n",
    "    print(\"Normalized confusion matrix\")\n",
    "  else:\n",
    "      print('Confusion matrix, without normalization')\n",
    "  thresh = cm.max() / 2.\n",
    "  for i, j in itertools.product(range(cm.shape[0]), range(cm.shape[1])):\n",
    "      plt.text(j, i, cm[i, j],horizontalalignment=\"center\",color=\"white\" if cm[i, j] > thresh else \"black\")\n",
    "  plt.tight_layout()\n",
    "  plt.ylabel('True label')\n",
    "  plt.xlabel('Predicted label')"
   ]
  },
  {
   "cell_type": "code",
   "execution_count": 40,
   "id": "45cca2a7",
   "metadata": {},
   "outputs": [
    {
     "name": "stdout",
     "output_type": "stream",
     "text": [
      "Confusion matrix, without normalization\n"
     ]
    },
    {
     "data": {
      "image/png": "[encoded data removed]",
      "text/plain": [
       "<Figure size 432x288 with 2 Axes>"
      ]
     },
     "metadata": {
      "needs_background": "light"
     },
     "output_type": "display_data"
    }
   ],
   "source": [
    "#Confusion matrix for logistic regression model\n",
    "cm = metrics.confusion_matrix(Y_test, X_test_prediction)\n",
    "plot_confusion_matrix(cm, classes=['Fake', 'Real'])"
   ]
  },
  {
   "cell_type": "code",
   "execution_count": 41,
   "id": "ccd4bfdf",
   "metadata": {},
   "outputs": [
    {
     "name": "stdout",
     "output_type": "stream",
     "text": [
      "Confusion matrix, without normalization\n"
     ]
    },
    {
     "data": {
      "image/png": "[encoded data removed]",
      "text/plain": [
       "<Figure size 432x288 with 2 Axes>"
      ]
     },
     "metadata": {
      "needs_background": "light"
     },
     "output_type": "display_data"
    }
   ],
   "source": [
    "# Confusion matrix for MultinomialNB Algorithm Model\n",
    "cm = metrics.confusion_matrix(Y_test_nb, X_test_prediction_nb)\n",
    "plot_confusion_matrix(cm, classes=['Fake', 'Real'])"
   ]
  },
  {
   "cell_type": "code",
   "execution_count": 42,
   "id": "641a45f8",
   "metadata": {},
   "outputs": [
    {
     "name": "stdout",
     "output_type": "stream",
     "text": [
      "Confusion matrix, without normalization\n"
     ]
    },
    {
     "data": {
      "image/png": "[encoded data removed]",
      "text/plain": [
       "<Figure size 432x288 with 2 Axes>"
      ]
     },
     "metadata": {
      "needs_background": "light"
     },
     "output_type": "display_data"
    }
   ],
   "source": [
    "# Confusion matrix for Passive Aggressive Classifier Algorithm Model\n",
    "cm = metrics.confusion_matrix(Y_test_pa, X_test_prediction_pa)\n",
    "plot_confusion_matrix(cm, classes=['Fake', 'Real'])"
   ]
  },
  {
   "cell_type": "code",
   "execution_count": 43,
   "id": "3840f836",
   "metadata": {},
   "outputs": [
    {
     "data": {
      "text/plain": [
       "'              precision    recall  f1-score   support\\n\\n           0       0.96      0.97      0.97      1865\\n           1       0.96      0.95      0.96      1427\\n\\n    accuracy                           0.96      3292\\n   macro avg       0.96      0.96      0.96      3292\\nweighted avg       0.96      0.96      0.96      3292\\n'"
      ]
     },
     "execution_count": 43,
     "metadata": {},
     "output_type": "execute_result"
    }
   ],
   "source": [
    "# Classification report for test data in logistic regression\n",
    "classification_report(Y_test, X_test_prediction)"
   ]
  },
  {
   "cell_type": "code",
   "execution_count": 44,
   "id": "50cf5136",
   "metadata": {},
   "outputs": [
    {
     "data": {
      "text/plain": [
       "'              precision    recall  f1-score   support\\n\\n           0       0.74      1.00      0.85      1865\\n           1       0.99      0.54      0.70      1427\\n\\n    accuracy                           0.80      3292\\n   macro avg       0.87      0.77      0.77      3292\\nweighted avg       0.85      0.80      0.78      3292\\n'"
      ]
     },
     "execution_count": 44,
     "metadata": {},
     "output_type": "execute_result"
    }
   ],
   "source": [
    "# Classification report for test data in MultinomialNB Algorithm Model\n",
    "classification_report(Y_test_nb, X_test_prediction_nb)"
   ]
  },
  {
   "cell_type": "code",
   "execution_count": 45,
   "id": "0c2210d1",
   "metadata": {},
   "outputs": [
    {
     "data": {
      "text/plain": [
       "'              precision    recall  f1-score   support\\n\\n           0       0.98      0.98      0.98      1865\\n           1       0.97      0.97      0.97      1427\\n\\n    accuracy                           0.98      3292\\n   macro avg       0.98      0.98      0.98      3292\\nweighted avg       0.98      0.98      0.98      3292\\n'"
      ]
     },
     "execution_count": 45,
     "metadata": {},
     "output_type": "execute_result"
    }
   ],
   "source": [
    "# Classification report for test data in Passive Aggressive Classifier Algorithm Model\n",
    "classification_report(Y_test_pa, X_test_prediction_pa)"
   ]
  },
  {
   "cell_type": "code",
   "execution_count": 91,
   "id": "0b166e05",
   "metadata": {},
   "outputs": [
    {
     "data": {
      "text/plain": [
       "<1x105168 sparse matrix of type '<class 'numpy.float64'>'\n",
       "\twith 166 stored elements in Compressed Sparse Row format>"
      ]
     },
     "execution_count": 91,
     "metadata": {},
     "output_type": "execute_result"
    }
   ],
   "source": [
    "X_test[100]"
   ]
  },
  {
   "cell_type": "code",
   "execution_count": 46,
   "id": "80ee9cc4",
   "metadata": {},
   "outputs": [
    {
     "name": "stdout",
     "output_type": "stream",
     "text": [
      "[0]\n",
      "The news in Real\n"
     ]
    }
   ],
   "source": [
    "# Making a Prediction using logistic regression\n",
    "X_new = X_test[100]\n",
    "\n",
    "prediction = model1.predict(X_new)\n",
    "print(prediction)\n",
    "\n",
    "if (prediction[0] == 0):\n",
    "  print('The news in Real')\n",
    "else:\n",
    "  print('The news is Fake and Unreliable')"
   ]
  },
  {
   "cell_type": "code",
   "execution_count": 47,
   "id": "0accb58e",
   "metadata": {},
   "outputs": [
    {
     "name": "stdout",
     "output_type": "stream",
     "text": [
      "[0]\n",
      "The news in Real\n"
     ]
    }
   ],
   "source": [
    "# Making a Prediction using MultinomialNB Algorithm Model\n",
    "X_new_nb = X_test_nb[100]\n",
    "\n",
    "prediction_nb = model2.predict(X_new_nb)\n",
    "print(prediction_nb)\n",
    "\n",
    "if (prediction_nb[0] == 0):\n",
    "  print('The news in Real')\n",
    "else:\n",
    "  print('The news is Fake and Unreliable')"
   ]
  },
  {
   "cell_type": "code",
   "execution_count": 48,
   "id": "6ddae6a7",
   "metadata": {},
   "outputs": [
    {
     "name": "stdout",
     "output_type": "stream",
     "text": [
      "[0]\n",
      "The news in Real\n"
     ]
    }
   ],
   "source": [
    "# Making a Prediction using Passive Aggressive Classifier Algorithm Model\n",
    "X_new_pa = X_test_pa[100]\n",
    "\n",
    "prediction_pa = model3.predict(X_new_pa)\n",
    "print(prediction_pa)\n",
    "\n",
    "if (prediction_pa[0] == 0):\n",
    "  print('The news in Real')\n",
    "else:\n",
    "  print('The news is Fake and Unreliable')"
   ]
  },
  {
   "cell_type": "markdown",
   "id": "a544d3c2",
   "metadata": {},
   "source": [
    "### Modeling & Model Evaluation with considering maximum feature(10000) in tfidf_v object created below\n",
    "### Training the model (model 4 : MultinomialNB Algorithm)\n",
    "### Training the model (model 5 : Passive Aggressive Classifier Algorithm)"
   ]
  },
  {
   "cell_type": "code",
   "execution_count": 49,
   "id": "eb4352df",
   "metadata": {},
   "outputs": [],
   "source": [
    "# Separating data and label\n",
    "X = news_dataset['text_corpus'].values\n",
    "Y = news_dataset['label'].values"
   ]
  },
  {
   "cell_type": "code",
   "execution_count": 50,
   "id": "9cb53d85",
   "metadata": {},
   "outputs": [],
   "source": [
    "#Initializing tfidf vectorizer with max_feature=10000\n",
    "tfidf_v = TfidfVectorizer(max_features=10000,ngram_range=(1,3))\n",
    "X1 = tfidf_v.fit_transform(X).toarray()"
   ]
  },
  {
   "cell_type": "code",
   "execution_count": 51,
   "id": "1cfcedc0",
   "metadata": {},
   "outputs": [
    {
     "data": {
      "text/plain": [
       "(18285, 10000)"
      ]
     },
     "execution_count": 51,
     "metadata": {},
     "output_type": "execute_result"
    }
   ],
   "source": [
    "X1.shape"
   ]
  },
  {
   "cell_type": "code",
   "execution_count": 52,
   "id": "1aef356a",
   "metadata": {},
   "outputs": [],
   "source": [
    "## Divide the dataset into Train and Test\n",
    "X_train_, X_test_, y_train_, y_test_ = train_test_split(X1, Y, test_size=0.18, random_state=0)"
   ]
  },
  {
   "cell_type": "code",
   "execution_count": 53,
   "id": "a57f2ee2",
   "metadata": {},
   "outputs": [
    {
     "name": "stderr",
     "output_type": "stream",
     "text": [
      "C:\\Users\\bhask\\anaconda3\\lib\\site-packages\\sklearn\\utils\\deprecation.py:87: FutureWarning: Function get_feature_names is deprecated; get_feature_names is deprecated in 1.0 and will be removed in 1.2. Please use get_feature_names_out instead.\n",
      "  warnings.warn(msg, category=FutureWarning)\n"
     ]
    },
    {
     "data": {
      "text/plain": [
       "['aaron',\n",
       " 'aaron klein',\n",
       " 'abandon',\n",
       " 'abba',\n",
       " 'abbott',\n",
       " 'abc',\n",
       " 'abc news',\n",
       " 'abduct',\n",
       " 'abdullah',\n",
       " 'abe',\n",
       " 'abedin',\n",
       " 'abid',\n",
       " 'abil',\n",
       " 'abl',\n",
       " 'abl get',\n",
       " 'aboard',\n",
       " 'abolish',\n",
       " 'aborigin',\n",
       " 'abort',\n",
       " 'abort right',\n",
       " 'abraham',\n",
       " 'abram',\n",
       " 'abroad',\n",
       " 'abruptli',\n",
       " 'absenc',\n",
       " 'absent',\n",
       " 'absente',\n",
       " 'absolut',\n",
       " 'absorb',\n",
       " 'abstract',\n",
       " 'absurd',\n",
       " 'abu',\n",
       " 'abund',\n",
       " 'abus',\n",
       " 'academ',\n",
       " 'academi',\n",
       " 'academi award',\n",
       " 'academia',\n",
       " 'acceler',\n",
       " 'accent',\n",
       " 'accept',\n",
       " 'access',\n",
       " 'access pipelin',\n",
       " 'accessori',\n",
       " 'accid',\n",
       " 'accident',\n",
       " 'acclaim',\n",
       " 'accommod',\n",
       " 'accompani',\n",
       " 'accomplish',\n",
       " 'accord',\n",
       " 'accord mr',\n",
       " 'accord new',\n",
       " 'accord one',\n",
       " 'accord peopl',\n",
       " 'accord report',\n",
       " 'accord two',\n",
       " 'accordingli',\n",
       " 'account',\n",
       " 'accumul',\n",
       " 'accur',\n",
       " 'accuraci',\n",
       " 'accus',\n",
       " 'accus mr',\n",
       " 'accustom',\n",
       " 'achiev',\n",
       " 'acid',\n",
       " 'acknowledg',\n",
       " 'aclu',\n",
       " 'acosta',\n",
       " 'acquir',\n",
       " 'acquisit',\n",
       " 'acquit',\n",
       " 'acr',\n",
       " 'across',\n",
       " 'across america',\n",
       " 'across border',\n",
       " 'across countri',\n",
       " 'across nation',\n",
       " 'across state',\n",
       " 'act',\n",
       " 'act like',\n",
       " 'act terror',\n",
       " 'action',\n",
       " 'activ',\n",
       " 'activist',\n",
       " 'actor',\n",
       " 'actress',\n",
       " 'actual',\n",
       " 'acut',\n",
       " 'ad',\n",
       " 'ad mr',\n",
       " 'adam',\n",
       " 'adapt',\n",
       " 'add',\n",
       " 'addict',\n",
       " 'addit',\n",
       " 'address',\n",
       " 'adel',\n",
       " 'adequ',\n",
       " 'adhd',\n",
       " 'adher',\n",
       " 'adjust',\n",
       " 'adl',\n",
       " 'admin',\n",
       " 'administ',\n",
       " 'administr',\n",
       " 'administr offici',\n",
       " 'administr said',\n",
       " 'administr would',\n",
       " 'admir',\n",
       " 'admiss',\n",
       " 'admit',\n",
       " 'adolesc',\n",
       " 'adopt',\n",
       " 'ador',\n",
       " 'adult',\n",
       " 'advanc',\n",
       " 'advantag',\n",
       " 'adventur',\n",
       " 'advers',\n",
       " 'adversari',\n",
       " 'advertis',\n",
       " 'advic',\n",
       " 'advis',\n",
       " 'advis mr',\n",
       " 'advisor',\n",
       " 'advisori',\n",
       " 'advoc',\n",
       " 'advocaci',\n",
       " 'advocaci group',\n",
       " 'aerial',\n",
       " 'aesthet',\n",
       " 'affair',\n",
       " 'affect',\n",
       " 'affidavit',\n",
       " 'affili',\n",
       " 'affirm',\n",
       " 'affluent',\n",
       " 'afford',\n",
       " 'afford care',\n",
       " 'afford care act',\n",
       " 'afghan',\n",
       " 'afghanistan',\n",
       " 'afp',\n",
       " 'afraid',\n",
       " 'africa',\n",
       " 'african',\n",
       " 'african american',\n",
       " 'aftermath',\n",
       " 'afternoon',\n",
       " 'afterward',\n",
       " 'ag',\n",
       " 'age',\n",
       " 'agenc',\n",
       " 'agenc said',\n",
       " 'agenda',\n",
       " 'agent',\n",
       " 'aggrav',\n",
       " 'aggress',\n",
       " 'agit',\n",
       " 'ago',\n",
       " 'ago mr',\n",
       " 'agre',\n",
       " 'agreement',\n",
       " 'agricultur',\n",
       " 'ahead',\n",
       " 'ahm',\n",
       " 'ahmad',\n",
       " 'ai',\n",
       " 'aid',\n",
       " 'aid huma',\n",
       " 'aid huma abedin',\n",
       " 'aid mr',\n",
       " 'ail',\n",
       " 'aim',\n",
       " 'air',\n",
       " 'air base',\n",
       " 'air defens',\n",
       " 'air forc',\n",
       " 'air siriusxm',\n",
       " 'air siriusxm patriot',\n",
       " 'air strike',\n",
       " 'airbag',\n",
       " 'airbnb',\n",
       " 'aircraft',\n",
       " 'aircraft carrier',\n",
       " 'airlin',\n",
       " 'airplan',\n",
       " 'airport',\n",
       " 'airstrik',\n",
       " 'aisl',\n",
       " 'aka',\n",
       " 'akin',\n",
       " 'al',\n",
       " 'al assad',\n",
       " 'al gore',\n",
       " 'al nusra',\n",
       " 'al qaeda',\n",
       " 'ala']"
      ]
     },
     "execution_count": 53,
     "metadata": {},
     "output_type": "execute_result"
    }
   ],
   "source": [
    "#To check the top 200 feature name\n",
    "tfidf_v.get_feature_names()[:200]"
   ]
  },
  {
   "cell_type": "code",
   "execution_count": 54,
   "id": "fcd99224",
   "metadata": {
    "scrolled": true
   },
   "outputs": [
    {
     "data": {
      "text/plain": [
       "{'analyzer': 'word',\n",
       " 'binary': False,\n",
       " 'decode_error': 'strict',\n",
       " 'dtype': numpy.float64,\n",
       " 'encoding': 'utf-8',\n",
       " 'input': 'content',\n",
       " 'lowercase': True,\n",
       " 'max_df': 1.0,\n",
       " 'max_features': 10000,\n",
       " 'min_df': 1,\n",
       " 'ngram_range': (1, 3),\n",
       " 'norm': 'l2',\n",
       " 'preprocessor': None,\n",
       " 'smooth_idf': True,\n",
       " 'stop_words': None,\n",
       " 'strip_accents': None,\n",
       " 'sublinear_tf': False,\n",
       " 'token_pattern': '(?u)\\\\b\\\\w\\\\w+\\\\b',\n",
       " 'tokenizer': None,\n",
       " 'use_idf': True,\n",
       " 'vocabulary': None}"
      ]
     },
     "execution_count": 54,
     "metadata": {},
     "output_type": "execute_result"
    }
   ],
   "source": [
    "#Get the parameters details\n",
    "tfidf_v.get_params()"
   ]
  },
  {
   "cell_type": "code",
   "execution_count": 55,
   "id": "ec01ab6d",
   "metadata": {},
   "outputs": [
    {
     "data": {
      "text/html": [
       "<div>\n",
       "<style scoped>\n",
       "    .dataframe tbody tr th:only-of-type {\n",
       "        vertical-align: middle;\n",
       "    }\n",
       "\n",
       "    .dataframe tbody tr th {\n",
       "        vertical-align: top;\n",
       "    }\n",
       "\n",
       "    .dataframe thead th {\n",
       "        text-align: right;\n",
       "    }\n",
       "</style>\n",
       "<table border=\"1\" class=\"dataframe\">\n",
       "  <thead>\n",
       "    <tr style=\"text-align: right;\">\n",
       "      <th></th>\n",
       "      <th>aaron</th>\n",
       "      <th>aaron klein</th>\n",
       "      <th>abandon</th>\n",
       "      <th>abba</th>\n",
       "      <th>abbott</th>\n",
       "      <th>abc</th>\n",
       "      <th>abc news</th>\n",
       "      <th>abduct</th>\n",
       "      <th>abdullah</th>\n",
       "      <th>abe</th>\n",
       "      <th>...</th>\n",
       "      <th>zero</th>\n",
       "      <th>zero hedg</th>\n",
       "      <th>zika</th>\n",
       "      <th>zika viru</th>\n",
       "      <th>zionist</th>\n",
       "      <th>zone</th>\n",
       "      <th>zone syria</th>\n",
       "      <th>zoo</th>\n",
       "      <th>zu</th>\n",
       "      <th>zuckerberg</th>\n",
       "    </tr>\n",
       "  </thead>\n",
       "  <tbody>\n",
       "    <tr>\n",
       "      <th>0</th>\n",
       "      <td>0.0</td>\n",
       "      <td>0.0</td>\n",
       "      <td>0.0464</td>\n",
       "      <td>0.0</td>\n",
       "      <td>0.0</td>\n",
       "      <td>0.0</td>\n",
       "      <td>0.0</td>\n",
       "      <td>0.0</td>\n",
       "      <td>0.0</td>\n",
       "      <td>0.0</td>\n",
       "      <td>...</td>\n",
       "      <td>0.0</td>\n",
       "      <td>0.0</td>\n",
       "      <td>0.000000</td>\n",
       "      <td>0.000000</td>\n",
       "      <td>0.0</td>\n",
       "      <td>0.0</td>\n",
       "      <td>0.0</td>\n",
       "      <td>0.0</td>\n",
       "      <td>0.000000</td>\n",
       "      <td>0.0</td>\n",
       "    </tr>\n",
       "    <tr>\n",
       "      <th>1</th>\n",
       "      <td>0.0</td>\n",
       "      <td>0.0</td>\n",
       "      <td>0.0000</td>\n",
       "      <td>0.0</td>\n",
       "      <td>0.0</td>\n",
       "      <td>0.0</td>\n",
       "      <td>0.0</td>\n",
       "      <td>0.0</td>\n",
       "      <td>0.0</td>\n",
       "      <td>0.0</td>\n",
       "      <td>...</td>\n",
       "      <td>0.0</td>\n",
       "      <td>0.0</td>\n",
       "      <td>0.000000</td>\n",
       "      <td>0.000000</td>\n",
       "      <td>0.0</td>\n",
       "      <td>0.0</td>\n",
       "      <td>0.0</td>\n",
       "      <td>0.0</td>\n",
       "      <td>0.095961</td>\n",
       "      <td>0.0</td>\n",
       "    </tr>\n",
       "    <tr>\n",
       "      <th>2</th>\n",
       "      <td>0.0</td>\n",
       "      <td>0.0</td>\n",
       "      <td>0.0000</td>\n",
       "      <td>0.0</td>\n",
       "      <td>0.0</td>\n",
       "      <td>0.0</td>\n",
       "      <td>0.0</td>\n",
       "      <td>0.0</td>\n",
       "      <td>0.0</td>\n",
       "      <td>0.0</td>\n",
       "      <td>...</td>\n",
       "      <td>0.0</td>\n",
       "      <td>0.0</td>\n",
       "      <td>0.366983</td>\n",
       "      <td>0.059606</td>\n",
       "      <td>0.0</td>\n",
       "      <td>0.0</td>\n",
       "      <td>0.0</td>\n",
       "      <td>0.0</td>\n",
       "      <td>0.000000</td>\n",
       "      <td>0.0</td>\n",
       "    </tr>\n",
       "    <tr>\n",
       "      <th>3</th>\n",
       "      <td>0.0</td>\n",
       "      <td>0.0</td>\n",
       "      <td>0.0000</td>\n",
       "      <td>0.0</td>\n",
       "      <td>0.0</td>\n",
       "      <td>0.0</td>\n",
       "      <td>0.0</td>\n",
       "      <td>0.0</td>\n",
       "      <td>0.0</td>\n",
       "      <td>0.0</td>\n",
       "      <td>...</td>\n",
       "      <td>0.0</td>\n",
       "      <td>0.0</td>\n",
       "      <td>0.000000</td>\n",
       "      <td>0.000000</td>\n",
       "      <td>0.0</td>\n",
       "      <td>0.0</td>\n",
       "      <td>0.0</td>\n",
       "      <td>0.0</td>\n",
       "      <td>0.000000</td>\n",
       "      <td>0.0</td>\n",
       "    </tr>\n",
       "    <tr>\n",
       "      <th>4</th>\n",
       "      <td>0.0</td>\n",
       "      <td>0.0</td>\n",
       "      <td>0.0000</td>\n",
       "      <td>0.0</td>\n",
       "      <td>0.0</td>\n",
       "      <td>0.0</td>\n",
       "      <td>0.0</td>\n",
       "      <td>0.0</td>\n",
       "      <td>0.0</td>\n",
       "      <td>0.0</td>\n",
       "      <td>...</td>\n",
       "      <td>0.0</td>\n",
       "      <td>0.0</td>\n",
       "      <td>0.000000</td>\n",
       "      <td>0.000000</td>\n",
       "      <td>0.0</td>\n",
       "      <td>0.0</td>\n",
       "      <td>0.0</td>\n",
       "      <td>0.0</td>\n",
       "      <td>0.000000</td>\n",
       "      <td>0.0</td>\n",
       "    </tr>\n",
       "  </tbody>\n",
       "</table>\n",
       "<p>5 rows × 10000 columns</p>\n",
       "</div>"
      ],
      "text/plain": [
       "   aaron  aaron klein  abandon  abba  abbott  abc  abc news  abduct  abdullah  \\\n",
       "0    0.0          0.0   0.0464   0.0     0.0  0.0       0.0     0.0       0.0   \n",
       "1    0.0          0.0   0.0000   0.0     0.0  0.0       0.0     0.0       0.0   \n",
       "2    0.0          0.0   0.0000   0.0     0.0  0.0       0.0     0.0       0.0   \n",
       "3    0.0          0.0   0.0000   0.0     0.0  0.0       0.0     0.0       0.0   \n",
       "4    0.0          0.0   0.0000   0.0     0.0  0.0       0.0     0.0       0.0   \n",
       "\n",
       "   abe  ...  zero  zero hedg      zika  zika viru  zionist  zone  zone syria  \\\n",
       "0  0.0  ...   0.0        0.0  0.000000   0.000000      0.0   0.0         0.0   \n",
       "1  0.0  ...   0.0        0.0  0.000000   0.000000      0.0   0.0         0.0   \n",
       "2  0.0  ...   0.0        0.0  0.366983   0.059606      0.0   0.0         0.0   \n",
       "3  0.0  ...   0.0        0.0  0.000000   0.000000      0.0   0.0         0.0   \n",
       "4  0.0  ...   0.0        0.0  0.000000   0.000000      0.0   0.0         0.0   \n",
       "\n",
       "   zoo        zu  zuckerberg  \n",
       "0  0.0  0.000000         0.0  \n",
       "1  0.0  0.095961         0.0  \n",
       "2  0.0  0.000000         0.0  \n",
       "3  0.0  0.000000         0.0  \n",
       "4  0.0  0.000000         0.0  \n",
       "\n",
       "[5 rows x 10000 columns]"
      ]
     },
     "execution_count": 55,
     "metadata": {},
     "output_type": "execute_result"
    }
   ],
   "source": [
    "count_df = pd.DataFrame(X_train_, columns=tfidf_v.get_feature_names())\n",
    "count_df.head()"
   ]
  },
  {
   "cell_type": "code",
   "execution_count": 56,
   "id": "aa5a2a59",
   "metadata": {},
   "outputs": [
    {
     "data": {
      "text/plain": [
       "MultinomialNB()"
      ]
     },
     "execution_count": 56,
     "metadata": {},
     "output_type": "execute_result"
    }
   ],
   "source": [
    "# Training the model\n",
    "model4 = MultinomialNB()\n",
    "model4.fit(X_train_, y_train_)"
   ]
  },
  {
   "cell_type": "code",
   "execution_count": 57,
   "id": "9ad47104",
   "metadata": {},
   "outputs": [
    {
     "name": "stdout",
     "output_type": "stream",
     "text": [
      "Accuracy score on the training data:  0.9359701193890482\n",
      "Accuracy score on the test data:  0.9286148238153098\n"
     ]
    }
   ],
   "source": [
    "### Model Evaluation\n",
    "# Accuracy Score on Training Data\n",
    "X_train_prediction_ = model4.predict(X_train_)\n",
    "training_data_accuracy_ = accuracy_score(X_train_prediction_, y_train_)\n",
    "\n",
    "print('Accuracy score on the training data: ',training_data_accuracy_)\n",
    "\n",
    "# Accuracy Score on Test Data\n",
    "X_test_prediction_ = model4.predict(X_test_)\n",
    "test_data_accuracy_ = accuracy_score(X_test_prediction_, y_test_)\n",
    "\n",
    "print('Accuracy score on the test data: ',test_data_accuracy_)"
   ]
  },
  {
   "cell_type": "code",
   "execution_count": 58,
   "id": "34914d2e",
   "metadata": {},
   "outputs": [
    {
     "data": {
      "text/plain": [
       "(14993,)"
      ]
     },
     "execution_count": 58,
     "metadata": {},
     "output_type": "execute_result"
    }
   ],
   "source": [
    "y_train_.shape"
   ]
  },
  {
   "cell_type": "code",
   "execution_count": 59,
   "id": "bed58770",
   "metadata": {},
   "outputs": [
    {
     "name": "stdout",
     "output_type": "stream",
     "text": [
      "Confusion matrix, without normalization\n"
     ]
    },
    {
     "data": {
      "image/png": "[encoded data removed]",
      "text/plain": [
       "<Figure size 432x288 with 2 Axes>"
      ]
     },
     "metadata": {
      "needs_background": "light"
     },
     "output_type": "display_data"
    }
   ],
   "source": [
    "cm = metrics.confusion_matrix(y_test_, X_test_prediction_)\n",
    "plot_confusion_matrix(cm, classes=['Fake', 'Real'])"
   ]
  },
  {
   "cell_type": "code",
   "execution_count": 60,
   "id": "decd56a1",
   "metadata": {},
   "outputs": [
    {
     "data": {
      "text/plain": [
       "'              precision    recall  f1-score   support\\n\\n           0       0.91      0.97      0.94      1840\\n           1       0.96      0.88      0.92      1452\\n\\n    accuracy                           0.93      3292\\n   macro avg       0.93      0.92      0.93      3292\\nweighted avg       0.93      0.93      0.93      3292\\n'"
      ]
     },
     "execution_count": 60,
     "metadata": {},
     "output_type": "execute_result"
    }
   ],
   "source": [
    "# Classification report for test data\n",
    "classification_report(y_test_, X_test_prediction_)"
   ]
  },
  {
   "cell_type": "markdown",
   "id": "377f6b77",
   "metadata": {},
   "source": [
    "### Passive Aggressive Classifier Algorithm"
   ]
  },
  {
   "cell_type": "code",
   "execution_count": 61,
   "id": "6d45331e",
   "metadata": {},
   "outputs": [],
   "source": [
    "## Divide the dataset into Train and Test\n",
    "X_train5, X_test5, y_train5, y_test5 = train_test_split(X1, Y, test_size=0.18, random_state=0)"
   ]
  },
  {
   "cell_type": "code",
   "execution_count": 62,
   "id": "dfc24467",
   "metadata": {},
   "outputs": [
    {
     "data": {
      "text/plain": [
       "PassiveAggressiveClassifier()"
      ]
     },
     "execution_count": 62,
     "metadata": {},
     "output_type": "execute_result"
    }
   ],
   "source": [
    "model5 = PassiveAggressiveClassifier()\n",
    "model5.fit(X_train5, y_train5)"
   ]
  },
  {
   "cell_type": "code",
   "execution_count": 63,
   "id": "297faf4e",
   "metadata": {},
   "outputs": [
    {
     "name": "stdout",
     "output_type": "stream",
     "text": [
      "Accuracy score on the training data:  1.0\n",
      "Accuracy score on the test data:  0.9723572296476306\n"
     ]
    }
   ],
   "source": [
    "### Model Evaluation\n",
    "# Accuracy Score on Training Data\n",
    "X_train_prediction5 = model5.predict(X_train5)\n",
    "training_data_accuracy5 = accuracy_score(X_train_prediction5, y_train5)\n",
    "\n",
    "print('Accuracy score on the training data: ',training_data_accuracy5)\n",
    "\n",
    "# Accuracy Score on Test Data\n",
    "X_test_prediction5 = model5.predict(X_test5)\n",
    "test_data_accuracy5 = accuracy_score(X_test_prediction5, y_test5)\n",
    "\n",
    "print('Accuracy score on the test data: ',test_data_accuracy5)"
   ]
  },
  {
   "cell_type": "code",
   "execution_count": 64,
   "id": "6e225691",
   "metadata": {},
   "outputs": [
    {
     "data": {
      "text/plain": [
       "(14993,)"
      ]
     },
     "execution_count": 64,
     "metadata": {},
     "output_type": "execute_result"
    }
   ],
   "source": [
    "y_train5.shape"
   ]
  },
  {
   "cell_type": "code",
   "execution_count": 65,
   "id": "12b176ff",
   "metadata": {},
   "outputs": [
    {
     "name": "stdout",
     "output_type": "stream",
     "text": [
      "Confusion matrix, without normalization\n"
     ]
    },
    {
     "data": {
      "image/png": "[encoded data removed]",
      "text/plain": [
       "<Figure size 432x288 with 2 Axes>"
      ]
     },
     "metadata": {
      "needs_background": "light"
     },
     "output_type": "display_data"
    }
   ],
   "source": [
    "cm = metrics.confusion_matrix(y_test5, X_test_prediction5)\n",
    "plot_confusion_matrix(cm, classes=['Fake', 'Real'])"
   ]
  },
  {
   "cell_type": "code",
   "execution_count": 66,
   "id": "37bbdef6",
   "metadata": {},
   "outputs": [
    {
     "data": {
      "text/plain": [
       "'              precision    recall  f1-score   support\\n\\n           0       0.91      0.97      0.94      1840\\n           1       0.96      0.88      0.92      1452\\n\\n    accuracy                           0.93      3292\\n   macro avg       0.93      0.92      0.93      3292\\nweighted avg       0.93      0.93      0.93      3292\\n'"
      ]
     },
     "execution_count": 66,
     "metadata": {},
     "output_type": "execute_result"
    }
   ],
   "source": [
    "# Classification report for test data\n",
    "classification_report(y_test_, X_test_prediction_)"
   ]
  },
  {
   "cell_type": "markdown",
   "id": "2e4c7ce5",
   "metadata": {},
   "source": [
    "### Hyper parameter tuning for Multinomial Classifier"
   ]
  },
  {
   "cell_type": "code",
   "execution_count": 67,
   "id": "c8bb94ff",
   "metadata": {},
   "outputs": [],
   "source": [
    "classifier=MultinomialNB(alpha=0.1)"
   ]
  },
  {
   "cell_type": "code",
   "execution_count": 68,
   "id": "848b158e",
   "metadata": {},
   "outputs": [
    {
     "name": "stderr",
     "output_type": "stream",
     "text": [
      "C:\\Users\\bhask\\anaconda3\\lib\\site-packages\\sklearn\\naive_bayes.py:555: UserWarning: alpha too small will result in numeric errors, setting alpha = 1.0e-10\n",
      "  warnings.warn(\n"
     ]
    },
    {
     "name": "stdout",
     "output_type": "stream",
     "text": [
      "Alpha: 0.0, Score : 0.9286148238153098\n",
      "Alpha: 0.1, Score : 0.9286148238153098\n",
      "Alpha: 0.2, Score : 0.9286148238153098\n",
      "Alpha: 0.30000000000000004, Score : 0.9286148238153098\n",
      "Alpha: 0.4, Score : 0.9286148238153098\n",
      "Alpha: 0.5, Score : 0.9286148238153098\n",
      "Alpha: 0.6000000000000001, Score : 0.9286148238153098\n",
      "Alpha: 0.7000000000000001, Score : 0.9286148238153098\n",
      "Alpha: 0.8, Score : 0.9286148238153098\n",
      "Alpha: 0.9, Score : 0.9286148238153098\n"
     ]
    }
   ],
   "source": [
    "previous_score=0\n",
    "for alpha in np.arange(0,1,0.1):\n",
    "    sub_classifier=MultinomialNB(alpha=alpha)\n",
    "    sub_classifier.fit(X_train_,y_train_)\n",
    "    y_pred=sub_classifier.predict(X_test_)\n",
    "    score = metrics.accuracy_score(y_test_, X_test_prediction_)\n",
    "    if score>previous_score:\n",
    "        classifier=sub_classifier\n",
    "    print(\"Alpha: {}, Score : {}\".format(alpha,score))"
   ]
  },
  {
   "cell_type": "code",
   "execution_count": 69,
   "id": "5b91a1d1",
   "metadata": {},
   "outputs": [
    {
     "name": "stderr",
     "output_type": "stream",
     "text": [
      "C:\\Users\\bhask\\anaconda3\\lib\\site-packages\\sklearn\\utils\\deprecation.py:87: FutureWarning: Function get_feature_names is deprecated; get_feature_names is deprecated in 1.0 and will be removed in 1.2. Please use get_feature_names_out instead.\n",
      "  warnings.warn(msg, category=FutureWarning)\n"
     ]
    }
   ],
   "source": [
    "## Get Features names\n",
    "feature_names = tfidf_v.get_feature_names()"
   ]
  },
  {
   "cell_type": "code",
   "execution_count": 70,
   "id": "5b048cfb",
   "metadata": {},
   "outputs": [
    {
     "name": "stderr",
     "output_type": "stream",
     "text": [
      "C:\\Users\\bhask\\anaconda3\\lib\\site-packages\\sklearn\\utils\\deprecation.py:103: FutureWarning: Attribute `coef_` was deprecated in version 0.24 and will be removed in 1.1 (renaming of 0.26).\n",
      "  warnings.warn(msg, category=FutureWarning)\n"
     ]
    },
    {
     "data": {
      "text/plain": [
       "[(-5.562359555775333, 'clinton'),\n",
       " (-5.647768034131754, 'trump'),\n",
       " (-5.822517879227114, 'hillari'),\n",
       " (-6.118475072705672, 'elect'),\n",
       " (-6.145067131972924, 'us'),\n",
       " (-6.347583330033277, 'vote'),\n",
       " (-6.3778070414090875, 'peopl'),\n",
       " (-6.402902037665024, 'email'),\n",
       " (-6.4071570751744975, 'state'),\n",
       " (-6.454905620985296, 'fbi'),\n",
       " (-6.462136077434587, 'one'),\n",
       " (-6.491542924213137, 'hillari clinton'),\n",
       " (-6.515536807492816, 'war'),\n",
       " (-6.550861962267366, 'would'),\n",
       " (-6.564110696816847, 'world'),\n",
       " (-6.568131755858986, 'like'),\n",
       " (-6.582607860447473, 'american'),\n",
       " (-6.6637878450534584, 'presid'),\n",
       " (-6.6724168562472315, 'russia'),\n",
       " (-6.679406040960709, 'year')]"
      ]
     },
     "execution_count": 70,
     "metadata": {},
     "output_type": "execute_result"
    }
   ],
   "source": [
    "### Most real\n",
    "sorted(zip(classifier.coef_[0], feature_names), reverse=True)[:20]"
   ]
  },
  {
   "cell_type": "code",
   "execution_count": 71,
   "id": "4ad8a4c0",
   "metadata": {},
   "outputs": [
    {
     "data": {
      "text/plain": [
       "[(-11.292853150530071, 'accord mr'),\n",
       " (-11.292853150530071, 'advis mr'),\n",
       " (-11.292853150530071, 'ago mr'),\n",
       " (-11.292853150530071, 'airbag'),\n",
       " (-11.292853150530071, 'also polit analyst'),\n",
       " (-11.292853150530071, 'amend columnist'),\n",
       " (-11.292853150530071, 'amend columnist breitbart'),\n",
       " (-11.292853150530071, 'american radio follow'),\n",
       " (-11.292853150530071, 'analyst arm'),\n",
       " (-11.292853150530071, 'analyst arm american'),\n",
       " (-11.292853150530071, 'antidop'),\n",
       " (-11.292853150530071, 'arm american radio'),\n",
       " (-11.292853150530071, 'attorney gener jeff'),\n",
       " (-11.292853150530071, 'author igcolonel'),\n",
       " (-11.292853150530071, 'author igcolonel hotmail'),\n",
       " (-11.292853150530071, 'avail regneri'),\n",
       " (-11.292853150530071, 'awr'),\n",
       " (-11.292853150530071, 'awr hawkin'),\n",
       " (-11.292853150530071, 'awr hawkin breitbart'),\n",
       " (-11.292853150530071, 'awr hawkin second')]"
      ]
     },
     "execution_count": 71,
     "metadata": {},
     "output_type": "execute_result"
    }
   ],
   "source": [
    "### Most fake words\n",
    "sorted(zip(classifier.coef_[0], feature_names))[:20]"
   ]
  },
  {
   "cell_type": "markdown",
   "id": "d4022195",
   "metadata": {},
   "source": [
    "# HashingVectorizer"
   ]
  },
  {
   "cell_type": "code",
   "execution_count": 72,
   "id": "dcd0110c",
   "metadata": {},
   "outputs": [],
   "source": [
    "#Initializing Hashing vectorizer with maximum feature as 10000\n",
    "hs_vectorizer=HashingVectorizer(n_features=10000)\n",
    "X2=hs_vectorizer.fit_transform(X).toarray()"
   ]
  },
  {
   "cell_type": "code",
   "execution_count": 73,
   "id": "d33794be",
   "metadata": {},
   "outputs": [
    {
     "data": {
      "text/plain": [
       "(18285, 10000)"
      ]
     },
     "execution_count": 73,
     "metadata": {},
     "output_type": "execute_result"
    }
   ],
   "source": [
    "X2.shape"
   ]
  },
  {
   "cell_type": "code",
   "execution_count": 74,
   "id": "656b1432",
   "metadata": {},
   "outputs": [],
   "source": [
    "## Divide the dataset into Train and Test\n",
    "from sklearn.model_selection import train_test_split\n",
    "X_train_hv, X_test_hv, y_train_hv, y_test_hv = train_test_split(X2, Y, test_size=0.18, random_state=0)"
   ]
  },
  {
   "cell_type": "code",
   "execution_count": 75,
   "id": "4b62341f",
   "metadata": {},
   "outputs": [
    {
     "data": {
      "text/plain": [
       "LogisticRegression()"
      ]
     },
     "execution_count": 75,
     "metadata": {},
     "output_type": "execute_result"
    }
   ],
   "source": [
    "# Training the Logistic regression model\n",
    "model6 = LogisticRegression()\n",
    "model6.fit(X_train_hv, y_train_hv)"
   ]
  },
  {
   "cell_type": "code",
   "execution_count": 76,
   "id": "7afce0c6",
   "metadata": {},
   "outputs": [
    {
     "name": "stdout",
     "output_type": "stream",
     "text": [
      "Accuracy score on the training data:  0.9671179883945842\n",
      "Accuracy score on the test data:  0.948359659781288\n"
     ]
    }
   ],
   "source": [
    "### Model Evaluation\n",
    "# Accuracy Score on Training Data\n",
    "X_train_prediction6 = model6.predict(X_train_hv)\n",
    "training_data_accuracy6 = accuracy_score(X_train_prediction6, y_train_hv)\n",
    "\n",
    "print('Accuracy score on the training data: ',training_data_accuracy6)\n",
    "\n",
    "# Accuracy Score on Test Data\n",
    "X_test_prediction6 = model6.predict(X_test_hv)\n",
    "test_data_accuracy6 = accuracy_score(X_test_prediction6, y_test_hv)\n",
    "\n",
    "print('Accuracy score on the test data: ',test_data_accuracy6)"
   ]
  },
  {
   "cell_type": "code",
   "execution_count": 77,
   "id": "77f745d6",
   "metadata": {},
   "outputs": [
    {
     "data": {
      "text/plain": [
       "(14993,)"
      ]
     },
     "execution_count": 77,
     "metadata": {},
     "output_type": "execute_result"
    }
   ],
   "source": [
    "y_train5.shape"
   ]
  },
  {
   "cell_type": "code",
   "execution_count": 78,
   "id": "71256f08",
   "metadata": {},
   "outputs": [
    {
     "name": "stdout",
     "output_type": "stream",
     "text": [
      "Confusion matrix, without normalization\n"
     ]
    },
    {
     "data": {
      "image/png": "[encoded data removed]",
      "text/plain": [
       "<Figure size 432x288 with 2 Axes>"
      ]
     },
     "metadata": {
      "needs_background": "light"
     },
     "output_type": "display_data"
    }
   ],
   "source": [
    "cm = metrics.confusion_matrix(y_test_hv, X_test_prediction6)\n",
    "plot_confusion_matrix(cm, classes=['Fake', 'Real'])"
   ]
  },
  {
   "cell_type": "code",
   "execution_count": 79,
   "id": "533b2aca",
   "metadata": {},
   "outputs": [
    {
     "data": {
      "text/plain": [
       "'              precision    recall  f1-score   support\\n\\n           0       0.95      0.96      0.95      1840\\n           1       0.95      0.94      0.94      1452\\n\\n    accuracy                           0.95      3292\\n   macro avg       0.95      0.95      0.95      3292\\nweighted avg       0.95      0.95      0.95      3292\\n'"
      ]
     },
     "execution_count": 79,
     "metadata": {},
     "output_type": "execute_result"
    }
   ],
   "source": [
    "# Classification report for test data\n",
    "classification_report(y_test_hv, X_test_prediction6)"
   ]
  }
 ],
 "metadata": {
  "kernelspec": {
   "display_name": "Python 3",
   "language": "python",
   "name": "python3"
  },
  "language_info": {
   "codemirror_mode": {
    "name": "ipython",
    "version": 3
   },
   "file_extension": ".py",
   "mimetype": "text/x-python",
   "name": "python",
   "nbconvert_exporter": "python",
   "pygments_lexer": "ipython3",
   "version": "3.8.8"
  }
 },
 "nbformat": 4,
 "nbformat_minor": 5
}
